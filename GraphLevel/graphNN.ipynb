{
 "cells": [
  {
   "cell_type": "code",
   "execution_count": 1,
   "metadata": {},
   "outputs": [
    {
     "name": "stderr",
     "output_type": "stream",
     "text": [
      "/home/shubhankarm/graphneuralnets/.conda/lib/python3.10/site-packages/torch_geometric/data/dataset.py:238: FutureWarning: You are using `torch.load` with `weights_only=False` (the current default value), which uses the default pickle module implicitly. It is possible to construct malicious pickle data which will execute arbitrary code during unpickling (See https://github.com/pytorch/pytorch/blob/main/SECURITY.md#untrusted-models for more details). In a future release, the default value for `weights_only` will be flipped to `True`. This limits the functions that could be executed during unpickling. Arbitrary objects will no longer be allowed to be loaded via this mode unless they are explicitly allowlisted by the user via `torch.serialization.add_safe_globals`. We recommend you start setting `weights_only=True` for any use case where you don't have full control of the loaded file. Please open an issue on GitHub for any issues related to this experimental feature.\n",
      "  if osp.exists(f) and torch.load(f) != _repr(self.pre_transform):\n",
      "/home/shubhankarm/graphneuralnets/.conda/lib/python3.10/site-packages/torch_geometric/data/dataset.py:246: FutureWarning: You are using `torch.load` with `weights_only=False` (the current default value), which uses the default pickle module implicitly. It is possible to construct malicious pickle data which will execute arbitrary code during unpickling (See https://github.com/pytorch/pytorch/blob/main/SECURITY.md#untrusted-models for more details). In a future release, the default value for `weights_only` will be flipped to `True`. This limits the functions that could be executed during unpickling. Arbitrary objects will no longer be allowed to be loaded via this mode unless they are explicitly allowlisted by the user via `torch.serialization.add_safe_globals`. We recommend you start setting `weights_only=True` for any use case where you don't have full control of the loaded file. Please open an issue on GitHub for any issues related to this experimental feature.\n",
      "  if osp.exists(f) and torch.load(f) != _repr(self.pre_filter):\n",
      "/home/shubhankarm/graphneuralnets/.conda/lib/python3.10/site-packages/torch_geometric/io/fs.py:215: FutureWarning: You are using `torch.load` with `weights_only=False` (the current default value), which uses the default pickle module implicitly. It is possible to construct malicious pickle data which will execute arbitrary code during unpickling (See https://github.com/pytorch/pytorch/blob/main/SECURITY.md#untrusted-models for more details). In a future release, the default value for `weights_only` will be flipped to `True`. This limits the functions that could be executed during unpickling. Arbitrary objects will no longer be allowed to be loaded via this mode unless they are explicitly allowlisted by the user via `torch.serialization.add_safe_globals`. We recommend you start setting `weights_only=True` for any use case where you don't have full control of the loaded file. Please open an issue on GitHub for any issues related to this experimental feature.\n",
      "  return torch.load(f, map_location)\n"
     ]
    },
    {
     "data": {
      "text/plain": [
       "ESOL(1128)"
      ]
     },
     "execution_count": 1,
     "metadata": {},
     "output_type": "execute_result"
    }
   ],
   "source": [
    "import rdkit # type: ignore\n",
    "from torch_geometric.datasets import MoleculeNet # type: ignore\n",
    "\n",
    "# Load the ESOL dataset\n",
    "data = MoleculeNet(root=\".\", name=\"ESOL\")\n",
    "data"
   ]
  },
  {
   "cell_type": "code",
   "execution_count": 18,
   "metadata": {},
   "outputs": [
    {
     "data": {
      "image/png": "[encoded data removed]",
      "text/plain": [
       "<rdkit.Chem.rdchem.Mol at 0x7f26214e4190>"
      ]
     },
     "execution_count": 18,
     "metadata": {},
     "output_type": "execute_result"
    }
   ],
   "source": [
    "from rdkit import Chem\n",
    "from rdkit.Chem.Draw import IPythonConsole\n",
    "molecule = Chem.MolFromSmiles(data[0]['smiles'])\n",
    "molecule"
   ]
  },
  {
   "cell_type": "code",
   "execution_count": 2,
   "metadata": {},
   "outputs": [
    {
     "name": "stdout",
     "output_type": "stream",
     "text": [
      "Dataset type:  <class 'torch_geometric.datasets.molecule_net.MoleculeNet'>\n",
      "Dataset features:  9\n",
      "Dataset target:  734\n",
      "Dataset length:  <bound method InMemoryDataset.len of ESOL(1128)>\n",
      "Dataset sample:  Data(x=[32, 9], edge_index=[2, 68], edge_attr=[68, 3], smiles='OCC3OC(OCC2OC(OC(C#N)c1ccccc1)C(O)C(O)C2O)C(O)C(O)C3O ', y=[1, 1])\n",
      "Sample  nodes:  32\n",
      "Sample  edges:  68\n"
     ]
    },
    {
     "name": "stderr",
     "output_type": "stream",
     "text": [
      "/home/shubhankarm/graphneuralnets/.conda/lib/python3.10/site-packages/torch_geometric/data/dataset.py:169: UserWarning: Found floating-point labels while calling `dataset.num_classes`. Returning the number of unique elements. Please make sure that this is expected before proceeding.\n",
      "  warnings.warn(\"Found floating-point labels while calling \"\n"
     ]
    }
   ],
   "source": [
    "# Investigating the dataset\n",
    "print(\"Dataset type: \", type(data))\n",
    "print(\"Dataset features: \", data.num_features)\n",
    "print(\"Dataset target: \", data.num_classes)\n",
    "print(\"Dataset length: \", data.len)\n",
    "print(\"Dataset sample: \", data[0])\n",
    "print(\"Sample  nodes: \", data[0].num_nodes)\n",
    "print(\"Sample  edges: \", data[0].num_edges)"
   ]
  },
  {
   "cell_type": "code",
   "execution_count": 3,
   "metadata": {},
   "outputs": [
    {
     "data": {
      "text/plain": [
       "tensor([[8, 0, 2, 5, 1, 0, 4, 0, 0],\n",
       "        [6, 0, 4, 5, 2, 0, 4, 0, 0],\n",
       "        [6, 0, 4, 5, 1, 0, 4, 0, 1],\n",
       "        [8, 0, 2, 5, 0, 0, 4, 0, 1],\n",
       "        [6, 0, 4, 5, 1, 0, 4, 0, 1],\n",
       "        [8, 0, 2, 5, 0, 0, 4, 0, 0],\n",
       "        [6, 0, 4, 5, 2, 0, 4, 0, 0],\n",
       "        [6, 0, 4, 5, 1, 0, 4, 0, 1],\n",
       "        [8, 0, 2, 5, 0, 0, 4, 0, 1],\n",
       "        [6, 0, 4, 5, 1, 0, 4, 0, 1],\n",
       "        [8, 0, 2, 5, 0, 0, 4, 0, 0],\n",
       "        [6, 0, 4, 5, 1, 0, 4, 0, 0],\n",
       "        [6, 0, 2, 5, 0, 0, 2, 0, 0],\n",
       "        [7, 0, 1, 5, 0, 0, 2, 0, 0],\n",
       "        [6, 0, 3, 5, 0, 0, 3, 1, 1],\n",
       "        [6, 0, 3, 5, 1, 0, 3, 1, 1],\n",
       "        [6, 0, 3, 5, 1, 0, 3, 1, 1],\n",
       "        [6, 0, 3, 5, 1, 0, 3, 1, 1],\n",
       "        [6, 0, 3, 5, 1, 0, 3, 1, 1],\n",
       "        [6, 0, 3, 5, 1, 0, 3, 1, 1],\n",
       "        [6, 0, 4, 5, 1, 0, 4, 0, 1],\n",
       "        [8, 0, 2, 5, 1, 0, 4, 0, 0],\n",
       "        [6, 0, 4, 5, 1, 0, 4, 0, 1],\n",
       "        [8, 0, 2, 5, 1, 0, 4, 0, 0],\n",
       "        [6, 0, 4, 5, 1, 0, 4, 0, 1],\n",
       "        [8, 0, 2, 5, 1, 0, 4, 0, 0],\n",
       "        [6, 0, 4, 5, 1, 0, 4, 0, 1],\n",
       "        [8, 0, 2, 5, 1, 0, 4, 0, 0],\n",
       "        [6, 0, 4, 5, 1, 0, 4, 0, 1],\n",
       "        [8, 0, 2, 5, 1, 0, 4, 0, 0],\n",
       "        [6, 0, 4, 5, 1, 0, 4, 0, 1],\n",
       "        [8, 0, 2, 5, 1, 0, 4, 0, 0]])"
      ]
     },
     "execution_count": 3,
     "metadata": {},
     "output_type": "execute_result"
    }
   ],
   "source": [
    "# Investigating the features\n",
    "# Shape: [num_nodes, num_node_features]\n",
    "\n",
    "data[0].x"
   ]
  },
  {
   "cell_type": "code",
   "execution_count": 4,
   "metadata": {},
   "outputs": [
    {
     "data": {
      "text/plain": [
       "tensor([[ 0,  1],\n",
       "        [ 1,  0],\n",
       "        [ 1,  2],\n",
       "        [ 2,  1],\n",
       "        [ 2,  3],\n",
       "        [ 2, 30],\n",
       "        [ 3,  2],\n",
       "        [ 3,  4],\n",
       "        [ 4,  3],\n",
       "        [ 4,  5],\n",
       "        [ 4, 26],\n",
       "        [ 5,  4],\n",
       "        [ 5,  6],\n",
       "        [ 6,  5],\n",
       "        [ 6,  7],\n",
       "        [ 7,  6],\n",
       "        [ 7,  8],\n",
       "        [ 7, 24],\n",
       "        [ 8,  7],\n",
       "        [ 8,  9],\n",
       "        [ 9,  8],\n",
       "        [ 9, 10],\n",
       "        [ 9, 20],\n",
       "        [10,  9],\n",
       "        [10, 11],\n",
       "        [11, 10],\n",
       "        [11, 12],\n",
       "        [11, 14],\n",
       "        [12, 11],\n",
       "        [12, 13],\n",
       "        [13, 12],\n",
       "        [14, 11],\n",
       "        [14, 15],\n",
       "        [14, 19],\n",
       "        [15, 14],\n",
       "        [15, 16],\n",
       "        [16, 15],\n",
       "        [16, 17],\n",
       "        [17, 16],\n",
       "        [17, 18],\n",
       "        [18, 17],\n",
       "        [18, 19],\n",
       "        [19, 14],\n",
       "        [19, 18],\n",
       "        [20,  9],\n",
       "        [20, 21],\n",
       "        [20, 22],\n",
       "        [21, 20],\n",
       "        [22, 20],\n",
       "        [22, 23],\n",
       "        [22, 24],\n",
       "        [23, 22],\n",
       "        [24,  7],\n",
       "        [24, 22],\n",
       "        [24, 25],\n",
       "        [25, 24],\n",
       "        [26,  4],\n",
       "        [26, 27],\n",
       "        [26, 28],\n",
       "        [27, 26],\n",
       "        [28, 26],\n",
       "        [28, 29],\n",
       "        [28, 30],\n",
       "        [29, 28],\n",
       "        [30,  2],\n",
       "        [30, 28],\n",
       "        [30, 31],\n",
       "        [31, 30]])"
      ]
     },
     "execution_count": 4,
     "metadata": {},
     "output_type": "execute_result"
    }
   ],
   "source": [
    "# Investigating the edges in sparse COO format\n",
    "# Shape [2, num_edges]\n",
    "data[0].edge_index.t()"
   ]
  },
  {
   "cell_type": "code",
   "execution_count": 5,
   "metadata": {},
   "outputs": [
    {
     "data": {
      "text/plain": [
       "tensor([[-0.7700]])"
      ]
     },
     "execution_count": 5,
     "metadata": {},
     "output_type": "execute_result"
    }
   ],
   "source": [
    "data[0].y"
   ]
  },
  {
   "cell_type": "markdown",
   "metadata": {},
   "source": [
    "Implementing the Graph Neural Network"
   ]
  },
  {
   "cell_type": "code",
   "execution_count": 6,
   "metadata": {},
   "outputs": [],
   "source": [
    "import torch\n",
    "from torch.nn import Linear\n",
    "import torch.nn.functional as F\n",
    "from torch_geometric.nn import GCNConv, TopKPooling  # type: ignore\n",
    "from torch_geometric.nn import global_mean_pool as gap, global_max_pool as gmp # type: ignore\n",
    "embedding_size = 64\n"
   ]
  },
  {
   "cell_type": "code",
   "execution_count": 7,
   "metadata": {},
   "outputs": [],
   "source": [
    "class GCN(torch.nn.Module):\n",
    "    def __init__(self):\n",
    "        super(GCN,self).__init__()\n",
    "        torch.manual_seed(42)\n",
    "        \n",
    "        #gcn layers\n",
    "        \n",
    "        self.initial_conv = GCNConv(data.num_features, embedding_size)\n",
    "        \n",
    "        self.conv1 = GCNConv(embedding_size,embedding_size)\n",
    "        self.conv2 = GCNConv(embedding_size,embedding_size)\n",
    "        self.conv3 = GCNConv(embedding_size,embedding_size)\n",
    "        self.conv4 = GCNConv(embedding_size, embedding_size)\n",
    "        \n",
    "        #output layer\n",
    "        \n",
    "        self.out = Linear(2*embedding_size,1)\n",
    "        \n",
    "    def forward(self, x, edge_index, batch_index):\n",
    "        #first conv layer\n",
    "        \n",
    "        hidden_0 = self.initial_conv(x,edge_index)\n",
    "        hidden_0= F.tanh(hidden_0)\n",
    "        \n",
    "        # other 3 conv layers\n",
    "        \n",
    "        hidden_1 = self.conv1(hidden_0, edge_index)\n",
    "        hidden_1 = F.tanh(hidden_1)\n",
    "        \n",
    "        hidden_2 = self.conv2(hidden_1, edge_index)\n",
    "        hidden_2 = F.tanh(hidden_2)\n",
    "        \n",
    "        hidden_3 = self.conv3(hidden_2, edge_index)\n",
    "        hidden_3 = F.tanh(hidden_3)\n",
    "        \n",
    "        hidden_4 = self.conv4(hidden_3, edge_index)\n",
    "        hidden_4 = F.tanh(hidden_4)\n",
    "        \n",
    "        # Global Pooling (stack different aggregations)\n",
    "        \n",
    "        hidden_pool = torch.cat([gap(hidden_4, batch_index),gmp(hidden_4,batch_index)], dim=1)\n",
    "        \n",
    "        # Apply a final (linear) classifier.\n",
    "        \n",
    "        out = self.out(hidden_pool)\n",
    "        \n",
    "        return out, hidden_pool\n",
    "        "
   ]
  },
  {
   "cell_type": "code",
   "execution_count": 8,
   "metadata": {},
   "outputs": [
    {
     "name": "stdout",
     "output_type": "stream",
     "text": [
      "GCN(\n",
      "  (initial_conv): GCNConv(9, 64)\n",
      "  (conv1): GCNConv(64, 64)\n",
      "  (conv2): GCNConv(64, 64)\n",
      "  (conv3): GCNConv(64, 64)\n",
      "  (conv4): GCNConv(64, 64)\n",
      "  (out): Linear(in_features=128, out_features=1, bias=True)\n",
      ")\n",
      "number of parameters:  17409\n"
     ]
    }
   ],
   "source": [
    "model = GCN()\n",
    "print(model)\n",
    "print(\"number of parameters: \", sum(p.numel() for p in model.parameters()))"
   ]
  },
  {
   "cell_type": "markdown",
   "metadata": {},
   "source": [
    "Training the GNN"
   ]
  },
  {
   "cell_type": "code",
   "execution_count": 9,
   "metadata": {},
   "outputs": [],
   "source": [
    "from torch_geometric.data import DataLoader # type: ignore\n",
    "import warnings\n",
    "warnings.filterwarnings(\"ignore\")\n",
    "# Defining loss function and optimizer\n",
    "\n",
    "loss_fn = torch.nn.MSELoss()\n",
    "optimizer = torch.optim.Adam(model.parameters(), lr=0.0001)\n",
    "\n"
   ]
  },
  {
   "cell_type": "code",
   "execution_count": 10,
   "metadata": {},
   "outputs": [],
   "source": [
    "device = torch.device(\"cuda\") # if torch.cuda.is_available() else \"cpu\")\n",
    "model = model.to(device)\n",
    "\n",
    "# Wrap data in a data loader\n",
    "\n",
    "data_size = len(data)\n",
    "numof_graphs_per_batch  = 64\n",
    "loader = DataLoader(data[ :int(data_size*0.8)], batch_size = numof_graphs_per_batch, shuffle=True)\n",
    "test_loader = DataLoader(data[int(data_size*0.2): ],batch_size=numof_graphs_per_batch,shuffle=True)\n",
    "\n",
    "def train(data):\n",
    "    for batch in loader:\n",
    "        batch.to(device)\n",
    "        \n",
    "        optimizer.zero_grad()\n",
    "        \n",
    "        pred,embedding = model(batch.x.float(), batch.edge_index ,batch.batch)\n",
    "        loss = loss_fn(pred,batch.y)\n",
    "        loss.backward()\n",
    "        \n",
    "        optimizer.step()\n",
    "    \n",
    "    return loss, embedding"
   ]
  },
  {
   "cell_type": "code",
   "execution_count": 11,
   "metadata": {},
   "outputs": [
    {
     "name": "stdout",
     "output_type": "stream",
     "text": [
      "Starting the training....\n",
      "Epoch 0 | Train Loss 9.702274322509766\n",
      "Epoch 100 | Train Loss 2.2547130584716797\n",
      "Epoch 200 | Train Loss 2.0474002361297607\n",
      "Epoch 300 | Train Loss 2.3335750102996826\n",
      "Epoch 400 | Train Loss 1.8020204305648804\n",
      "Epoch 500 | Train Loss 2.5342001914978027\n",
      "Epoch 600 | Train Loss 0.3061600923538208\n",
      "Epoch 700 | Train Loss 0.8480193614959717\n",
      "Epoch 800 | Train Loss 1.2189059257507324\n",
      "Epoch 900 | Train Loss 1.105386734008789\n",
      "Epoch 1000 | Train Loss 4.097634792327881\n",
      "Epoch 1100 | Train Loss 0.43639644980430603\n",
      "Epoch 1200 | Train Loss 0.6314657330513\n",
      "Epoch 1300 | Train Loss 0.6334051489830017\n",
      "Epoch 1400 | Train Loss 0.3910408914089203\n",
      "Epoch 1500 | Train Loss 0.3332185447216034\n",
      "Epoch 1600 | Train Loss 0.5449062585830688\n",
      "Epoch 1700 | Train Loss 0.3734932839870453\n",
      "Epoch 1800 | Train Loss 1.23171067237854\n",
      "Epoch 1900 | Train Loss 0.4067370295524597\n"
     ]
    }
   ],
   "source": [
    "print(\"Starting the training....\")\n",
    "losses= []\n",
    "for epoch in range(2000):\n",
    "    loss,h = train(data)\n",
    "    losses.append(loss)\n",
    "    if epoch%100==0:\n",
    "        print(f\"Epoch {epoch} | Train Loss {loss}\")"
   ]
  },
  {
   "cell_type": "code",
   "execution_count": 38,
   "metadata": {},
   "outputs": [
    {
     "name": "stdout",
     "output_type": "stream",
     "text": [
      "MSE: 0.4948, RMSE: 0.7034\n"
     ]
    }
   ],
   "source": [
    "# testing model performance\n",
    "\n",
    "test_batch = next(iter(test_loader))\n",
    "loss = 0\n",
    "with torch.no_grad():\n",
    "    test_batch.to(device)\n",
    "    pred, embed = model(test_batch.x.float(), test_batch.edge_index, test_batch.batch) \n",
    "    loss += loss_fn(pred, test_batch.y)\n",
    "\n",
    "mse = loss.item()\n",
    "rmse = mse ** 0.5\n",
    "\n",
    "print(f'MSE: {mse:.4f}, RMSE: {rmse:.4f}')"
   ]
  },
  {
   "cell_type": "code",
   "execution_count": 50,
   "metadata": {},
   "outputs": [
    {
     "name": "stdout",
     "output_type": "stream",
     "text": [
      "Average MSE: 0.5271, Average RMSE: 0.7175\n"
     ]
    }
   ],
   "source": [
    "mse_values = []\n",
    "rmse_values = []\n",
    "for _ in range(5):\n",
    "    test_batch = next(iter(test_loader))\n",
    "    loss = 0\n",
    "    with torch.no_grad():\n",
    "        test_batch.to(device)\n",
    "        pred, embed = model(test_batch.x.float(), test_batch.edge_index, test_batch.batch) \n",
    "        loss += loss_fn(pred, test_batch.y)\n",
    "    mse = loss.item()\n",
    "    rmse = mse ** 0.5\n",
    "    mse_values.append(mse)\n",
    "    rmse_values.append(rmse)\n",
    "\n",
    "avg_mse = sum(mse_values) / 5\n",
    "avg_rmse = sum(rmse_values) / 5\n",
    "\n",
    "print(f'Average MSE: {avg_mse:.4f}, Average RMSE: {avg_rmse:.4f}')"
   ]
  },
  {
   "cell_type": "markdown",
   "metadata": {},
   "source": [
    "Visualizing the Training loss"
   ]
  },
  {
   "cell_type": "code",
   "execution_count": null,
   "metadata": {},
   "outputs": [],
   "source": [
    "# Visualize learning (training loss)\n",
    "import seaborn as sns\n",
    "losses_float = [float(loss.cpu().detach().numpy()) for loss in losses] \n",
    "loss_indices = [i for i,l in enumerate(losses_float)] \n",
    "plt = sns.lineplot(loss_indices, losses_float)\n",
    "plt"
   ]
  },
  {
   "cell_type": "code",
   "execution_count": null,
   "metadata": {},
   "outputs": [],
   "source": [
    "import matplotlib.pyplot as plt\n",
    "# Visualize learning (training loss)\n",
    "plt.plot(range(len(losses)), losses, marker='o')\n",
    "plt.title('Training Loss Over Time')\n",
    "plt.xlabel('Epoch')\n",
    "plt.ylabel('Loss')\n",
    "plt.grid(True)\n",
    "plt.show()"
   ]
  },
  {
   "cell_type": "markdown",
   "metadata": {},
   "source": [
    "Getting a test prediction"
   ]
  },
  {
   "cell_type": "code",
   "execution_count": null,
   "metadata": {},
   "outputs": [],
   "source": [
    "import pandas as pd \n",
    "\n",
    "# Analyze the results for one batch\n",
    "test_batch = next(iter(test_loader))\n",
    "with torch.no_grad():\n",
    "    test_batch.to(device)\n",
    "    pred, embed = model(test_batch.x.float(), test_batch.edge_index, test_batch.batch) \n",
    "    df = pd.DataFrame()\n",
    "    df[\"y_real\"] = test_batch.y.tolist()\n",
    "    df[\"y_pred\"] = pred.tolist()\n",
    "df[\"y_real\"] = df[\"y_real\"].apply(lambda row: row[0])\n",
    "df[\"y_pred\"] = df[\"y_pred\"].apply(lambda row: row[0])\n",
    "df"
   ]
  },
  {
   "cell_type": "code",
   "execution_count": null,
   "metadata": {},
   "outputs": [],
   "source": [
    "plt = sns.scatterplot(data=df, x=\"y_real\", y=\"y_pred\")\n",
    "plt.set(xlim=(-7, 2))\n",
    "plt.set(ylim=(-7, 2))\n",
    "plt"
   ]
  },
  {
   "cell_type": "code",
   "execution_count": null,
   "metadata": {},
   "outputs": [],
   "source": []
  }
 ],
 "metadata": {
  "kernelspec": {
   "display_name": "Python 3",
   "language": "python",
   "name": "python3"
  },
  "language_info": {
   "codemirror_mode": {
    "name": "ipython",
    "version": 3
   },
   "file_extension": ".py",
   "mimetype": "text/x-python",
   "name": "python",
   "nbconvert_exporter": "python",
   "pygments_lexer": "ipython3",
   "version": "3.10.13"
  }
 },
 "nbformat": 4,
 "nbformat_minor": 2
}
